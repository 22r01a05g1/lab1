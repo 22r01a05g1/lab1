{
  "nbformat": 4,
  "nbformat_minor": 0,
  "metadata": {
    "colab": {
      "provenance": [],
      "authorship_tag": "ABX9TyPx5PKQTnwj7O3klP4bQKto",
      "include_colab_link": true
    },
    "kernelspec": {
      "name": "python3",
      "display_name": "Python 3"
    },
    "language_info": {
      "name": "python"
    }
  },
  "cells": [
    {
      "cell_type": "markdown",
      "metadata": {
        "id": "view-in-github",
        "colab_type": "text"
      },
      "source": [
        "<a href=\"https://colab.research.google.com/github/22r01a05g1/lab1/blob/main/rock_paper_scissors_game.ipynb\" target=\"_parent\"><img src=\"https://colab.research.google.com/assets/colab-badge.svg\" alt=\"Open In Colab\"/></a>"
      ]
    },
    {
      "cell_type": "code",
      "execution_count": null,
      "metadata": {
        "colab": {
          "base_uri": "https://localhost:8080/"
        },
        "id": "a7lXyk2-PAUQ",
        "outputId": "202a62e7-a35f-433f-ece0-b7bd6d687289"
      },
      "outputs": [
        {
          "output_type": "stream",
          "name": "stdout",
          "text": [
            "Welcome to the rock-paper-scissors\n",
            "enter your choice (rock,paper,scissors):scissors\n",
            "computer choose: rock\n",
            "computer win\n"
          ]
        }
      ],
      "source": [
        "import random\n",
        "def computer_choice_get():\n",
        "    choices = [\"rock\" , \"paper\" , \"scissors\"]\n",
        "    return random.choice(choices)\n",
        "def winner_get(player,computer):\n",
        "    if player == computer:\n",
        "        return \"tie\"\n",
        "    elif (player == \"rock\" and computer == \"scissors\") or \\\n",
        "          (player == \"paper\" and computer == \"rock\") or \\\n",
        "          (player ==\"scissors\" and computer == \"paper\"):\n",
        "          return \"you win\"\n",
        "    else:\n",
        "          return \"computer win\"\n",
        "def play_game():\n",
        "    print(\"Welcome to the rock-paper-scissors\")\n",
        "    player = input(\"enter your choice (rock,paper,scissors):\")\n",
        "    computer = computer_choice_get()\n",
        "    print(\"computer choose:\",computer)\n",
        "    result = winner_get(player,computer)\n",
        "    print(result)\n",
        "\n",
        "\n",
        "play_game()\n",
        "\n",
        "\n",
        "\n"
      ]
    },
    {
      "cell_type": "code",
      "source": [
        "\n"
      ],
      "metadata": {
        "id": "oowFfV3IYPWl"
      },
      "execution_count": null,
      "outputs": []
    }
  ]
}