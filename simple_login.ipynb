{
  "nbformat": 4,
  "nbformat_minor": 0,
  "metadata": {
    "colab": {
      "provenance": [],
      "toc_visible": true,
      "authorship_tag": "ABX9TyMvyngjziNV8BTJX5a2WfnF",
      "include_colab_link": true
    },
    "kernelspec": {
      "name": "python3",
      "display_name": "Python 3"
    },
    "language_info": {
      "name": "python"
    }
  },
  "cells": [
    {
      "cell_type": "markdown",
      "metadata": {
        "id": "view-in-github",
        "colab_type": "text"
      },
      "source": [
        "<a href=\"https://colab.research.google.com/github/22r01a05g1/lab1/blob/main/simple_login.ipynb\" target=\"_parent\"><img src=\"https://colab.research.google.com/assets/colab-badge.svg\" alt=\"Open In Colab\"/></a>"
      ]
    },
    {
      "cell_type": "code",
      "source": [
        "username = 1234\n",
        "password = 2376\n",
        "print(\"welcome to the app store!\")\n",
        "username = float(input(\"enter your username:\"))\n",
        "password = float(input(\"enter your password:\"))\n",
        "if username == 1234 and password == 2376:\n",
        "  print(\"login succesfull\")\n",
        "else:\n",
        "  print(\"login failed\")\n",
        "\n"
      ],
      "metadata": {
        "colab": {
          "base_uri": "https://localhost:8080/"
        },
        "id": "my-tQeLavBTt",
        "outputId": "365b5679-6e71-40c2-ac00-8aa75dbaadec"
      },
      "execution_count": null,
      "outputs": [
        {
          "output_type": "stream",
          "name": "stdout",
          "text": [
            "welcome to the app store!\n",
            "enter your username:1234\n",
            "enter your password:2376\n",
            "login succesfull\n"
          ]
        }
      ]
    }
  ]
}